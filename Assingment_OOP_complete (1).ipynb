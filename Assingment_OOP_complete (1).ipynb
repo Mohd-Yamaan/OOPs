{
  "cells": [
    {
      "cell_type": "markdown",
      "source": [
        "# Theoretical Question"
      ],
      "metadata": {
        "id": "ruWnhaByuxsV"
      }
    },
    {
      "cell_type": "markdown",
      "metadata": {
        "id": "X2Yh6bOuIGnR"
      },
      "source": [
        "1. What is object orriented programig\n",
        "\n",
        "**Answer** -- Object-Oriented Programming, or OOP, in Python is a way of writing code where you think about things as \"objects,\" just like in real life. For example, if you were making a program about animals, you wouldn't treat an animal as just some data scattered everywhere. Instead, you'd create something called a class in Python, which acts like a blueprint for that animal. This class would define what every animal should have — like a name and species — and what it can do — like making a sound or moving.\n",
        "\n",
        "When you want to create an actual animal in your program, you create an object from that class. Each object is like a real version of the blueprint with its own specific details. One animal might be a dog named Max, another might be a cat named Luna. Both are made from the same class, but they are separate objects with their own traits.\n",
        "\n",
        "Python makes OOP simple and powerful. Inside a class, you can define attributes to hold data, and methods to define what the object can do. This way, the data and the behavior stay together, making the code easier to manage, especially when things get complex. If you ever need another type of animal that’s similar but slightly different, you can create a new class based on the old one — this is called inheritance. Python handles this smoothly too.\n",
        "\n",
        "So in Python, OOP helps you build cleaner, more organized, and reusable code by grouping data and functions into meaningful units that mirror the way we naturally think about the world.\n",
        "\n"
      ]
    },
    {
      "cell_type": "markdown",
      "metadata": {
        "id": "BNVUU9eVJyqw"
      },
      "source": [
        "2. what is a class in OPPS?\n",
        "\n",
        "**Answer** -- A class in object-oriented programming is a user-defined blueprint or prototype from which objects are created. It defines attributes to hold data and methods to define behaviors. When a class is used, it creates an object or instance. This helps in organizing code by grouping related data and functions together. Classes also support key OOP concepts like inheritance, encapsulation, and polymorphism."
      ]
    },
    {
      "cell_type": "markdown",
      "metadata": {
        "id": "f7bCKE7wKnoe"
      },
      "source": [
        "3. what is an object is an OPPs?\n",
        "\n",
        "**Answer**  -- An object in Object-Oriented Programming (OOP) is an instance of a class. It represents a real-world entity with state (data/attributes) and behavior (methods/functions). When a class is defined, no memory is allocated until an object is created from it. Each object can have different values for its attributes but share the structure and behavior defined by the class. Objects are the core building blocks in OOP."
      ]
    },
    {
      "cell_type": "markdown",
      "metadata": {
        "id": "3TcgDijbLB5-"
      },
      "source": [
        "4. What is the different between the abstraction and encapsulation?\n",
        "**Answer** -- Abstraction and Encapsulation are two fundamental concepts in OOP, but they focus on different things:\n",
        "\n",
        "Abstraction means hiding the complex details and showing only the essential features to the user. It focuses on what an object does, not how it does it.\n",
        "\n",
        "Encapsulation means bundling data (attributes) and methods (functions) that operate on the data into a single unit (class) and restricting direct access to some of the object’s components. It focuses on how data is protected and accessed.\n",
        "\n",
        "**In short**, abstraction hides complexity, while encapsulation hides data.\n",
        "\n",
        "\n",
        "\n",
        "\n",
        "\n",
        "\n",
        "\n",
        "\n"
      ]
    },
    {
      "cell_type": "markdown",
      "metadata": {
        "id": "pRRUX9egLq6-"
      },
      "source": [
        "5. What are dunger method in Python?\n",
        "\n",
        "**Answer** -- Dunder methods (short for double underscore methods) are special methods in Python that have double underscores before and after their names, like __init__, __str__, or __add__.\n",
        "\n",
        "They are also called magic methods or special methods and let you define how your objects behave with built-in Python operations, like:\n",
        "\n",
        "__init__: Runs when an object is created (constructor).\n",
        "\n",
        "__str__: Defines what is shown when you print the object.\n",
        "\n",
        "__add__: Defines behavior for the + operator."
      ]
    },
    {
      "cell_type": "markdown",
      "metadata": {
        "id": "GB9iFIu2MUTG"
      },
      "source": [
        "6. Explain the concept of Inheritance in python?\n",
        "\n",
        "**Answer** -- Inheritance in Python is an OOP concept where a new class (called child or subclass) inherits attributes and methods from an existing class (called parent or superclass). This allows the child class to reuse, extend, or modify the behavior of the parent class, promoting code reuse and organization.\n",
        "\n",
        "**For Example_**"
      ]
    },
    {
      "cell_type": "code",
      "execution_count": null,
      "metadata": {
        "id": "MUGSHcUoM_Dn"
      },
      "outputs": [],
      "source": [
        "class Animal:\n",
        "    def sound(self):\n",
        "        print(\"Some sound\")\n",
        "\n",
        "class Dog(Animal):\n",
        "    def sound(self):\n",
        "        print(\"Bark\")\n",
        "\n",
        "my_dog = Dog()\n",
        "my_dog.sound()  # Output: Bark\n"
      ]
    },
    {
      "cell_type": "markdown",
      "metadata": {
        "id": "T4JroHPjNAcX"
      },
      "source": [
        "7. What is the Polymorphysims in python?\n",
        "\n",
        "**Answer** -- Polymorphism in Python allows functions or methods to work with objects of different types.\n",
        "It enables the same interface (like a method name) to behave differently based on the object.\n",
        "Python supports polymorphism through method overriding and duck typing.\n",
        "For example, different classes can implement the same method speak(), returning different results.\n",
        "A function can call speak() without knowing the object's class, as long as the method exists.\n",
        "This makes the code more flexible, reusable, and easier to maintain.\n",
        "Polymorphism is a core concept in object-oriented programming.\n"
      ]
    },
    {
      "cell_type": "markdown",
      "metadata": {
        "id": "J04vWs_z-gWi"
      },
      "source": [
        "8. How is encapsulation achived in Python\n",
        "**Answer** -- Encapsulation in Python is achieved by restricting access to class variables and methods.\n",
        "Public members are accessible everywhere, protected members use a single underscore _, and private members use double underscore __.\n",
        "Python uses name mangling for private members to prevent direct access.\n",
        "Encapsulation is often supported by getter and setter methods to control access to data.\n",
        "It helps protect internal state and promotes data integrity."
      ]
    },
    {
      "cell_type": "markdown",
      "metadata": {
        "id": "TU_-kvTq_Loi"
      },
      "source": [
        "9. What is a constructor in python?\n",
        "\n",
        "**Answer** -- A constructor in Python is a special method used to initialize objects when a class is created.\n",
        "It is defined using the __init__() method.\n",
        "This method is automatically called when a new object is instantiated.\n",
        "It allows you to set initial values for object attributes.\n",
        "\n",
        "**Example:**\n"
      ]
    },
    {
      "cell_type": "code",
      "execution_count": null,
      "metadata": {
        "id": "A4Xt7mB3_j_K"
      },
      "outputs": [],
      "source": [
        "class Person:\n",
        "    def __init__(self, name):\n",
        "        self.name = name\n"
      ]
    },
    {
      "cell_type": "markdown",
      "metadata": {
        "id": "KGDKBjg__x-q"
      },
      "source": [
        "10. What are the class and static method in python?\n",
        "**Answer** -- In Python, class methods and static methods are two types of methods that behave differently from regular instance methods:\n",
        "\n",
        "🔹 Class Method:\n",
        "Defined with the @classmethod decorator.\n",
        "\n",
        "Takes cls (not self) as the first argument.\n",
        "\n",
        "Can access and modify class-level data."
      ]
    },
    {
      "cell_type": "code",
      "execution_count": null,
      "metadata": {
        "id": "Kh5MB0c2AkId"
      },
      "outputs": [],
      "source": [
        "class MyClass:\n",
        "    count = 0\n",
        "    @classmethod\n",
        "    def show_count(cls):\n",
        "        print(cls.count)\n"
      ]
    },
    {
      "cell_type": "markdown",
      "metadata": {
        "id": "nm1G7Y-eAqAr"
      },
      "source": [
        "🔹 Static Method:\n",
        "Defined with the @staticmethod decorator.\n",
        "\n",
        "Takes no self or cls parameter.\n",
        "\n",
        "Used for utility functions related to the class, but independent of class or instance."
      ]
    },
    {
      "cell_type": "code",
      "execution_count": null,
      "metadata": {
        "id": "q9xHhw8QAreN"
      },
      "outputs": [],
      "source": [
        "class MyClass:\n",
        "    @staticmethod\n",
        "    def greet():\n",
        "        print(\"Hello!\")\n"
      ]
    },
    {
      "cell_type": "markdown",
      "source": [
        "11.  What are the method of overloding in Python?\n",
        "\n",
        "**Answer** In Python, method overloading refers to defining multiple methods with the same name but different arguments. However, unlike some other programming languages (like Java or C++), Python does not support traditional method overloading directly. Instead, Python allows only one method with a given name in a class, and the latest definition overrides the previous ones.\n"
      ],
      "metadata": {
        "id": "DA02C4g0_WSq"
      }
    },
    {
      "cell_type": "markdown",
      "metadata": {
        "id": "DMCa4gTnAulr"
      },
      "source": [
        "12. What are the method of overloding in OOP?\n",
        "\n",
        "**Answer** -- In Python OOP, method overloading isn’t supported in the traditional way (multiple methods with the same name). Instead, overloading is done by:\n",
        "\n",
        "Using default arguments to handle different numbers of parameters.\n",
        "\n",
        "Using *args and **kwargs to accept variable numbers and types of arguments.\n",
        "\n",
        "Manual type checking inside a method to change behavior based on argument types.\n",
        "\n",
        "These techniques let one method handle multiple cases, simulating method overloading in Python."
      ]
    },
    {
      "cell_type": "markdown",
      "metadata": {
        "id": "1tOm7h2wCJzq"
      },
      "source": [
        "13. What is a property decorator in Python?\n",
        "**Answer** -- The @property decorator in Python lets you define methods that act like attributes.\n",
        "It allows controlled access to private variables without changing how you access them.\n",
        "Using @property, you create a getter method accessed like a normal attribute.\n",
        "You can also define setters and deleters with @propertyname.setter and @propertyname.deleter.\n",
        "This helps in encapsulating data and adding logic when getting or setting values.\n",
        "It makes code cleaner and safer by managing attribute access.\n",
        "Overall, it improves the interface of classes by hiding method calls behind attribute syntax."
      ]
    },
    {
      "cell_type": "markdown",
      "metadata": {
        "id": "tTFoQnFnC0-L"
      },
      "source": [
        "14. why are polymorphism is important in OOP?\n",
        "\n",
        "**Answer** -- Polymorphism is important in OOP because it allows objects of different classes to be treated through a common interface.\n",
        "It enables code reusability by letting the same function or method work with different types of objects.\n",
        "Polymorphism makes programs more flexible and easier to extend or modify.\n",
        "It helps in writing cleaner, more maintainable code by reducing conditional statements.\n",
        "By supporting method overriding, it allows specific behaviors for subclasses while using a general interface.\n",
        "Overall, polymorphism promotes scalability and better organization in software design.\n",
        "\n",
        "\n",
        "\n",
        "\n",
        "\n",
        "\n",
        "\n",
        "\n",
        "\n",
        "\n"
      ]
    },
    {
      "cell_type": "markdown",
      "metadata": {
        "id": "nuOeEfSCDUya"
      },
      "source": [
        "15. What is an abstract class in python?\n",
        "\n",
        "**Answer** -- An abstract class in Python is a class that cannot be instantiated directly and is meant to be subclassed.\n",
        "It often includes one or more abstract methods that must be implemented by its subclasses.\n",
        "Abstract classes are defined using the abc module and the @abstractmethod decorator.\n",
        "They provide a blueprint for other classes, enforcing a certain interface.\n",
        "**Example:**"
      ]
    },
    {
      "cell_type": "code",
      "execution_count": null,
      "metadata": {
        "id": "ZFIS0lmCDpbj"
      },
      "outputs": [],
      "source": [
        "from abc import ABC, abstractmethod\n",
        "\n",
        "class Animal(ABC):\n",
        "    @abstractmethod\n",
        "    def speak(self):\n",
        "        pass\n"
      ]
    },
    {
      "cell_type": "markdown",
      "metadata": {
        "id": "7mPZm9kTDvLT"
      },
      "source": [
        "16. What are the advantage of the OOP?\n",
        "\n",
        "**Answer** -- Here are the main advantages of Object-Oriented Programming (OOP):\n",
        "\n",
        "Modularity: Code is organized into classes and objects, making it easier to manage and understand.\n",
        "\n",
        "Reusability: Classes and objects can be reused across programs, reducing redundancy.\n",
        "\n",
        "Encapsulation: Data and methods are bundled together, protecting data from outside interference.\n",
        "\n",
        "Inheritance: New classes can inherit properties and methods from existing ones, promoting code reuse.\n",
        "\n",
        "Polymorphism: Objects of different classes can be treated uniformly, increasing flexibility.\n",
        "\n",
        "Maintainability: OOP code is easier to update and maintain due to clear structure.\n",
        "\n",
        "Scalability: Helps build complex and large applications more effectively."
      ]
    },
    {
      "cell_type": "markdown",
      "metadata": {
        "id": "It3rOdpjEegL"
      },
      "source": [
        "17. What are the difference detween the class variable or Intance variable?\n",
        "\n",
        "**Asnwer** --  the difference between class variables and instance variables:\n",
        "\n",
        "Class Variable:\n",
        "\n",
        "Shared by all instances of the class.\n",
        "\n",
        "Defined inside the class but outside any method.\n",
        "\n",
        "Changes affect all objects of the class.\n",
        "\n",
        "Instance Variable:\n",
        "\n",
        "Unique to each instance/object.\n",
        "\n",
        "Defined inside methods (usually __init__) using self.\n",
        "\n",
        "Changes affect only that specific object.\n",
        "\n",
        "**Example:**"
      ]
    },
    {
      "cell_type": "code",
      "execution_count": null,
      "metadata": {
        "id": "q7Py4iBZFAnt"
      },
      "outputs": [],
      "source": [
        "class MyClass:\n",
        "    class_var = 0  # class variable\n",
        "\n",
        "    def __init__(self, value):\n",
        "        self.instance_var = value  # instance variable"
      ]
    },
    {
      "cell_type": "markdown",
      "metadata": {
        "id": "3XU2wKyeFIpT"
      },
      "source": [
        "18. What is multiple inheritance in Python?\n",
        "\n",
        "**Answer**  -- Multiple inheritance in Python means a class can inherit from more than one parent class.\n",
        "This allows the child class to use methods and attributes from all its parents.\n",
        "It helps combine features from different classes into a single class.\n",
        "Python supports multiple inheritance directly by listing multiple parent classes in parentheses.\n",
        "If methods have the same name, Python uses the Method Resolution Order (MRO) to decide which one to call.\n",
        "Multiple inheritance increases code reuse and flexibility.\n",
        "However, it can make the design more complex if not managed carefully."
      ]
    },
    {
      "cell_type": "markdown",
      "metadata": {
        "id": "cOunxh8pFr1L"
      },
      "source": [
        "19. Explain the purpose of __str__ and __repr__ method in python.\n",
        "\n",
        "**Answer** -- The __str__ and __repr__ methods in Python are used to provide string representations of objects:\n",
        "\n",
        "__str__:\n",
        "Returns a user-friendly or informal string representation of the object, used by the print() function and str().\n",
        "It’s meant to be readable and concise.\n",
        "\n",
        "__repr__:\n",
        "Returns an official or detailed string representation of the object, used by the repr() function and in interactive sessions.\n",
        "It should ideally be unambiguous and, if possible, valid Python code to recreate the object."
      ]
    },
    {
      "cell_type": "code",
      "execution_count": null,
      "metadata": {
        "id": "Pzd_kdmTGTId"
      },
      "outputs": [],
      "source": [
        "class Person:\n",
        "    def __init__(self, name):\n",
        "        self.name = name\n",
        "\n",
        "    def __str__(self):\n",
        "        return f\"Person named {self.name}\"\n",
        "\n",
        "    def __repr__(self):\n",
        "        return f\"Person('{self.name}')\""
      ]
    },
    {
      "cell_type": "code",
      "execution_count": null,
      "metadata": {
        "colab": {
          "base_uri": "https://localhost:8080/"
        },
        "id": "dqtC_rHdGcIi",
        "outputId": "a4fcf783-b1af-4816-aef0-207bcc849925"
      },
      "outputs": [
        {
          "name": "stdout",
          "output_type": "stream",
          "text": [
            "Person named Alice\n",
            "Person('Bob')\n"
          ]
        }
      ],
      "source": [
        "print(Person(\"Alice\"))\n",
        "print(repr(Person(\"Bob\")))"
      ]
    },
    {
      "cell_type": "markdown",
      "metadata": {
        "id": "8mgFH4UZHKRM"
      },
      "source": [
        "20. Explain the significance of 'super()' function in Python.\n",
        "\n",
        "**Answer** -- The super() function in Python is used to call a method from a parent (super) class inside a subclass.\n",
        "It helps you access and extend the behavior of the parent class without explicitly naming it.\n",
        "This is especially useful in inheritance to avoid repeating code and to ensure proper initialization.\n",
        "Using super() makes your code cleaner, more maintainable, and supports multiple inheritance smoothly.\n",
        "\n",
        "**Example:**"
      ]
    },
    {
      "cell_type": "code",
      "execution_count": null,
      "metadata": {
        "colab": {
          "base_uri": "https://localhost:8080/"
        },
        "id": "otbw56JhI02l",
        "outputId": "33194e4c-9cd2-44d1-c2a0-00bf5b4e875d"
      },
      "outputs": [
        {
          "name": "stdout",
          "output_type": "stream",
          "text": [
            "Parent init\n",
            "Child init\n"
          ]
        }
      ],
      "source": [
        "class Parent:\n",
        "    def __init__(self):\n",
        "        print(\"Parent init\")\n",
        "\n",
        "class Child(Parent):\n",
        "    def __init__(self):\n",
        "        super().__init__()  # calls Parent's __init__\n",
        "        print(\"Child init\")\n",
        "child = Child()"
      ]
    },
    {
      "cell_type": "markdown",
      "metadata": {
        "id": "W9nBrMk1JOqL"
      },
      "source": [
        "21. what is the significance of the __del__ method in Python?\n",
        "\n",
        "**Answer** -- The __del__ method in Python is a destructor—a special method called when an object is about to be destroyed (i.e., when it’s garbage collected).\n",
        "\n",
        "Significance of __del__:\n",
        "It allows you to clean up resources like closing files, network connections, or releasing memory before the object is removed.\n",
        "\n",
        "Helps in performing final tasks like logging or cleanup when an object’s lifetime ends.\n",
        "\n",
        "However, its execution time is unpredictable because Python’s garbage collector decides when to delete objects.\n",
        "\n",
        "\n"
      ]
    },
    {
      "cell_type": "markdown",
      "metadata": {
        "id": "1ekx4I6CJiZM"
      },
      "source": [
        "22. What is teh difference between @staticmethod and @classmethod in Python?\n",
        "\n",
        "**Answer** --  The difference between @staticmethod and @classmethod in Python:\n",
        "\n",
        "@staticmethod:\n",
        "\n",
        "* Does not take self or cls as the first parameter.\n",
        "\n",
        "* Behaves like a regular function but belongs to the class’s namespace.\n",
        "\n",
        "* Cannot access instance (self) or class (cls) data directly.\n",
        "\n",
        "* Used for utility functions related to the class but independent of class or instance state.\n",
        "\n",
        "\n",
        "\n",
        "\n",
        "@classmethod:\n",
        "\n",
        "* Takes cls as the first parameter, representing the class itself.\n",
        "\n",
        "* Can access or modify class state (variables/methods).\n",
        "\n",
        "* Can be called on the class itself or its instances.\n",
        "\n",
        "* Used for factory methods or methods that affect the class as a whole."
      ]
    },
    {
      "cell_type": "markdown",
      "metadata": {
        "id": "E9PLvkzuK-9s"
      },
      "source": [
        ":23. How does polymorphism work with inheritance in Python?\n",
        "\n",
        "**Answer** - Polymorphism in Python works with inheritance by allowing a subclass to override methods from its parent class, so the same method call behaves differently depending on the object's actual class. This means you can write code that uses a parent class reference to call a method, and Python will automatically execute the subclass's version if it exists. For example, if both Dog and Cat inherit from Animal and override a method like speak(), calling speak() on an Animal reference will produce different outputs depending on whether the object is a Dog or a Cat, enabling flexible and reusable code through one interface with many implementations.\n"
      ]
    },
    {
      "cell_type": "markdown",
      "source": [
        "24. What is method chaining in Python OOP?\n",
        "\n",
        "**Answer** - Method chaining in Python OOP is a technique where multiple methods are called sequentially on the same object in a single line of code. This works because each method returns the object itself (usually self), allowing the next method to be invoked right after the previous one. It's a clean and concise way to perform a series of operations on an object without repeating the object's name. For example:"
      ],
      "metadata": {
        "id": "MCyKrvh0AUbj"
      }
    },
    {
      "cell_type": "markdown",
      "source": [
        "25. What is the purpose of the __call__ method in Python?\n",
        "\n",
        "**Aswer** -"
      ],
      "metadata": {
        "id": "24197khxl4xc"
      }
    },
    {
      "cell_type": "code",
      "source": [
        "class Builder:\n",
        "    def step1(self):\n",
        "        print(\"Step 1\")\n",
        "        return self\n",
        "    def step2(self):\n",
        "        print(\"Step 2\")\n",
        "        return self\n",
        "\n",
        "b = Builder()\n",
        "b.step1().step2()  # Calls step1, then step2 on the same object\n"
      ],
      "metadata": {
        "id": "gpDLPTnRYbfI"
      },
      "execution_count": null,
      "outputs": []
    },
    {
      "cell_type": "markdown",
      "source": [
        "25. What is the purpose of the __call__ method in Python?:\n",
        "\n",
        "**Answer** - The __call__ method in Python lets you use an object like a function. When you put parentheses after an object (like obj()), Python runs the code inside the object's __call__ method. This means you can make your objects do something when you \"call\" them, just like a regular function. For example, if you want an object that multiplies a number by a fixed value, you can define __call__ to do that, and then use the object like obj(5) to get the result.\n",
        "\n",
        "\n",
        "\n",
        "\n",
        "\n",
        "\n",
        "\n",
        "\n"
      ],
      "metadata": {
        "id": "6zgEx0OvAZZL"
      }
    },
    {
      "cell_type": "code",
      "source": [
        "class Multiplier:\n",
        "    def __init__(self, factor):\n",
        "        self.factor = factor\n",
        "    def __call__(self, x):\n",
        "        return x * self.factor\n",
        "\n",
        "double = Multiplier(2)\n",
        "print(double(5))  # Output: 10\n"
      ],
      "metadata": {
        "id": "qp9-ahWMYzpW"
      },
      "execution_count": null,
      "outputs": []
    },
    {
      "cell_type": "markdown",
      "metadata": {
        "id": "73mzfIqlhPus"
      },
      "source": [
        "# Practical Question"
      ]
    },
    {
      "cell_type": "markdown",
      "metadata": {
        "id": "MpplcQOzh1M9"
      },
      "source": [
        "1. Create a parent class Animal with a method speak() that print a **generic** masage. create a child class dog that overrieds the speak(0 method to print \"Bark!\"."
      ]
    },
    {
      "cell_type": "code",
      "execution_count": null,
      "metadata": {
        "id": "7D8yyJaTi6q1"
      },
      "outputs": [],
      "source": [
        "class Animal:\n",
        "  def speak(self):\n",
        "    print(\"Animal Speak\")\n",
        "class Dog(Animal):\n",
        "  def speak(self):\n",
        "    print(\"Dog Bark\")"
      ]
    },
    {
      "cell_type": "code",
      "execution_count": null,
      "metadata": {
        "colab": {
          "base_uri": "https://localhost:8080/"
        },
        "id": "ebhxbutWj7wN",
        "outputId": "59efb060-8483-4dc3-f400-120802af0424"
      },
      "outputs": [
        {
          "name": "stdout",
          "output_type": "stream",
          "text": [
            "Animal Speak\n"
          ]
        }
      ],
      "source": [
        "a = Animal()\n",
        "a.speak()"
      ]
    },
    {
      "cell_type": "code",
      "execution_count": null,
      "metadata": {
        "colab": {
          "base_uri": "https://localhost:8080/"
        },
        "id": "FXB3w50tl2r1",
        "outputId": "87352b52-771f-4125-a438-466e19836a6c"
      },
      "outputs": [
        {
          "name": "stdout",
          "output_type": "stream",
          "text": [
            "Dog Bark\n"
          ]
        }
      ],
      "source": [
        "d = Dog()\n",
        "d.speak()"
      ]
    },
    {
      "cell_type": "markdown",
      "source": [
        "2.  Write a program to create an abstract class Shape with a method area(). Derive classes Circle and Rectangle\n",
        "from it and implement the area() method in both."
      ],
      "metadata": {
        "id": "BQY1KDwTAqQj"
      }
    },
    {
      "cell_type": "markdown",
      "source": [
        "3. Implement a multi-level inheritance scenario where a class Vehicle has an attribute type. Derive a class Car\n",
        "and further derive a class ElectricCar that adds a battery attribute."
      ],
      "metadata": {
        "id": "TAjeuRnSA-XT"
      }
    },
    {
      "cell_type": "code",
      "execution_count": null,
      "metadata": {
        "id": "Tsl44FXjmtAd"
      },
      "outputs": [],
      "source": [
        "class Vehical:\n",
        "  def __init__(self,Vehical_type):\n",
        "    self.type = Vehical_type\n",
        "\n",
        "  def show_info(self):\n",
        "    print(f\"Vehical Type: {self.type}\")\n",
        "\n",
        "\n",
        "class Car(Vehical):\n",
        "  def __init__(self,Vehical_type):\n",
        "    super().__init__(Vehical_type)\n",
        "\n",
        "  def show_info(self):\n",
        "    super().show_info()\n",
        "    print(\"This is a car\")\n",
        "\n",
        "class ElectricCar(Car):\n",
        "  def __init__(self,Vehical_type,battery):\n",
        "    super().__init__(Vehical_type)\n",
        "    self.battery = battery\n",
        "\n",
        "  def show_info(self):\n",
        "    super().show_info()\n",
        "    print(f\"This is a {self.battery} battery car\")"
      ]
    },
    {
      "cell_type": "code",
      "execution_count": null,
      "metadata": {
        "colab": {
          "base_uri": "https://localhost:8080/"
        },
        "id": "zsSa7HgElgAy",
        "outputId": "63a2cf8f-51c7-439a-adbb-7e4745bd514a"
      },
      "outputs": [
        {
          "name": "stdout",
          "output_type": "stream",
          "text": [
            "Vehical Type: Electric_Car\n",
            "This is a car\n",
            "This is a lithum battery car\n"
          ]
        }
      ],
      "source": [
        "e_car = ElectricCar(\"Electric_Car\",\"lithum\")\n",
        "e_car.show_info()"
      ]
    },
    {
      "cell_type": "markdown",
      "source": [
        "4. Demonstrate polymorphism by creating a base class Bird with a method fly(). Create two derived classes\n",
        "Sparrow and Penguin that override the fly() method.\n"
      ],
      "metadata": {
        "id": "4Kl0m0M8BDtl"
      }
    },
    {
      "cell_type": "code",
      "execution_count": null,
      "metadata": {
        "colab": {
          "base_uri": "https://localhost:8080/"
        },
        "id": "T84S91rzt1_j",
        "outputId": "cab65f00-eccd-4a89-dd51-adf28f14e2f2"
      },
      "outputs": [
        {
          "name": "stdout",
          "output_type": "stream",
          "text": [
            "birds can fly\n",
            "Sparrow can fly\n",
            "Penguin can't fly\n"
          ]
        }
      ],
      "source": [
        "class Bird:\n",
        "  def fly(self):\n",
        "    print(\"birds can fly\")\n",
        "\n",
        "\n",
        "class Sparrow(Bird):\n",
        "  def fly(self):\n",
        "    print(\"Sparrow can fly\")\n",
        "\n",
        "\n",
        "class Penguin(Bird):\n",
        "  def fly(self):\n",
        "    print(\"Penguin can't fly\")\n",
        "\n",
        "\n",
        "def bird_fly_test(bird):\n",
        "    bird.fly()  #  Same method name, different behavior\n",
        "\n",
        "# Create objects\n",
        "b = Bird()\n",
        "s = Sparrow()\n",
        "p = Penguin()\n",
        "\n",
        "# Run tests\n",
        "bird_fly_test(b)\n",
        "bird_fly_test(s)\n",
        "bird_fly_test(p)"
      ]
    },
    {
      "cell_type": "markdown",
      "source": [
        "5. Write a program to demonstrate encapsulation by creating a class BankAccount with private attributes\n",
        "balance and methods to deposit, withdraw, and check balance."
      ],
      "metadata": {
        "id": "7q_PnV8PBF4d"
      }
    },
    {
      "cell_type": "code",
      "execution_count": null,
      "metadata": {
        "id": "8C9ZxwBIwLcM"
      },
      "outputs": [],
      "source": [
        "class BankAccount:\n",
        "    def __init__(self, balance, ):\n",
        "        self.account_num"
      ]
    },
    {
      "cell_type": "code",
      "execution_count": null,
      "metadata": {
        "id": "yhie_Z9FxtPc"
      },
      "outputs": [],
      "source": [
        "class BankAccount:\n",
        "    def __init__(self, initial_balance=0):\n",
        "        self.__balance = initial_balance  # Private attribute\n",
        "\n",
        "    def deposit(self, amount):\n",
        "        if amount > 0:\n",
        "            self.__balance += amount\n",
        "            print(f\"Deposited: ₹{amount}\")\n",
        "        else:\n",
        "            print(\"Amount must be greater than zero.\")\n",
        "\n",
        "    def withdraw(self, amount):\n",
        "        if amount > self.__balance:\n",
        "            print(\"Insufficient balance!\")\n",
        "        elif amount <= 0:\n",
        "            print(\"Amount must be greater than zero.\")\n",
        "        else:\n",
        "            self.__balance -= amount\n",
        "            print(f\"Withdrawn: ₹{amount}\")\n",
        "\n",
        "    def check_balance(self):\n",
        "        print(f\"Current Balance: ₹{self.__balance}\")\n"
      ]
    },
    {
      "cell_type": "code",
      "execution_count": null,
      "metadata": {
        "colab": {
          "base_uri": "https://localhost:8080/"
        },
        "id": "vf_BV5f_yXx7",
        "outputId": "aa1f574c-6fcd-44da-f114-98f8c30c4cd4"
      },
      "outputs": [
        {
          "name": "stdout",
          "output_type": "stream",
          "text": [
            "Current Balance: ₹1000\n",
            "Deposited: ₹500\n",
            "Withdrawn: ₹300\n",
            "Current Balance: ₹1200\n"
          ]
        }
      ],
      "source": [
        "# a bank account with ₹1000 initial balance\n",
        "account = BankAccount(1000)\n",
        "\n",
        "account.check_balance()\n",
        "account.deposit(500)\n",
        "account.withdraw(300)\n",
        "account.check_balance()\n",
        "\n"
      ]
    },
    {
      "cell_type": "markdown",
      "source": [
        "6. Demonstrate runtime polymorphism using a method play() in a base class Instrument. Derive classes Guitar\n",
        "and Piano that implement their own version of play()"
      ],
      "metadata": {
        "id": "ov5YLC8BBNHM"
      }
    },
    {
      "cell_type": "code",
      "execution_count": null,
      "metadata": {
        "id": "HtgDeDRi0nMr"
      },
      "outputs": [],
      "source": [
        "class Instrument:\n",
        "  def play(self):\n",
        "    print(\"Instrument is playing\")\n",
        "\n",
        "class Guitar(Instrument):\n",
        "  def play(self):\n",
        "    print(\"Guitar is playing a sweetly melody\")\n",
        "\n",
        "class Piano(Instrument):\n",
        "  def play(self):\n",
        "    print(\"Piano is playing a classic tune\")"
      ]
    },
    {
      "cell_type": "code",
      "execution_count": null,
      "metadata": {
        "colab": {
          "base_uri": "https://localhost:8080/"
        },
        "id": "wIkbW92A2vmE",
        "outputId": "33b31d17-e075-4982-805e-7b0c38d55e9c"
      },
      "outputs": [
        {
          "name": "stdout",
          "output_type": "stream",
          "text": [
            "Instrument is playing\n",
            "Guitar is playing a sweetly melody\n",
            "Piano is playing a classic tune\n"
          ]
        }
      ],
      "source": [
        "I = Instrument()\n",
        "G = Guitar()\n",
        "P = Piano()\n",
        "\n",
        "I.play()\n",
        "G.play()\n",
        "P.play()"
      ]
    },
    {
      "cell_type": "markdown",
      "source": [
        "7. Create a class MathOperations with a class method add_numbers() to add two numbers and a static\n",
        "method subtract_numbers() to subtract two numbers."
      ],
      "metadata": {
        "id": "v6ebl7n6BSGc"
      }
    },
    {
      "cell_type": "code",
      "execution_count": null,
      "metadata": {
        "colab": {
          "base_uri": "https://localhost:8080/"
        },
        "id": "vIz4rn4T3kD0",
        "outputId": "bb7adabe-3562-4f00-cea4-782ff1f670c4"
      },
      "outputs": [
        {
          "name": "stdout",
          "output_type": "stream",
          "text": [
            "11\n"
          ]
        }
      ],
      "source": [
        "\n",
        "# Math Operation\n",
        "class MathOperation:\n",
        "  def add_numbers(self,a,b):\n",
        "    return a + b\n",
        "class MathOperation:\n",
        "  def add_numbers(self,a,b):\n",
        "    return a + b\n",
        "a=5\n",
        "b=6\n",
        "print(MathOperation().add_numbers(a,b))"
      ]
    },
    {
      "cell_type": "code",
      "execution_count": null,
      "metadata": {
        "colab": {
          "base_uri": "https://localhost:8080/"
        },
        "id": "nC_4pVCp6pB9",
        "outputId": "38cf90ea-32a7-4b53-dca9-f6cc901b8170"
      },
      "outputs": [
        {
          "data": {
            "text/plain": [
              "3"
            ]
          },
          "execution_count": 65,
          "metadata": {},
          "output_type": "execute_result"
        }
      ],
      "source": [
        "#staticmethod\n",
        "class calculator:\n",
        "  @staticmethod\n",
        "  def sub(a,b):\n",
        "    return a-b\n",
        "\n",
        "calculator.sub(9,6)"
      ]
    },
    {
      "cell_type": "markdown",
      "source": [
        "8. Implement a class Person with a class method to count the total number of persons created"
      ],
      "metadata": {
        "id": "gK_VaL2LBtl8"
      }
    },
    {
      "cell_type": "code",
      "execution_count": null,
      "metadata": {
        "colab": {
          "base_uri": "https://localhost:8080/"
        },
        "id": "GjEBQn1L7v2G",
        "outputId": "6cf593a0-454b-41fc-875b-f5dcc8279e02"
      },
      "outputs": [
        {
          "name": "stdout",
          "output_type": "stream",
          "text": [
            "Total Persons Created: 3\n"
          ]
        }
      ],
      "source": [
        "class Person:\n",
        "    # Class variable to count instances\n",
        "    person_count = 0\n",
        "\n",
        "    def __init__(self, name):\n",
        "        self.name = name\n",
        "        Person.person_count += 1\n",
        "\n",
        "    @classmethod\n",
        "    def get_person_count(cls):\n",
        "        print(f\"Total Persons Created: {cls.person_count}\")\n",
        "\n",
        "p1 = Person(\"Alice\")\n",
        "p2 = Person(\"Bob\")\n",
        "p3 = Person(\"Charlie\")\n",
        "\n",
        "Person.get_person_count()\n"
      ]
    },
    {
      "cell_type": "markdown",
      "source": [
        "9. Write a class Fraction with attributes numerator and denominator. Override the str method to display the\n",
        "fraction as \"numerator/denominator\"."
      ],
      "metadata": {
        "id": "SKHnD6aBBzpN"
      }
    },
    {
      "cell_type": "code",
      "execution_count": null,
      "metadata": {
        "id": "jlE7kdt9-Ebg",
        "colab": {
          "base_uri": "https://localhost:8080/"
        },
        "outputId": "0a8a0820-7423-4e59-9376-f74505156824"
      },
      "outputs": [
        {
          "output_type": "stream",
          "name": "stdout",
          "text": [
            "3/4\n"
          ]
        }
      ],
      "source": [
        "class Function:\n",
        "  def __init__(self,numerator, denominator):\n",
        "    self.numerator = numerator\n",
        "    self.denominator = denominator\n",
        "\n",
        "  def __str__(self):\n",
        "    return f\"{self.numerator}/{self.denominator}\"\n",
        "\n",
        "f = Function(3, 4)\n",
        "print(f)"
      ]
    },
    {
      "cell_type": "markdown",
      "source": [
        " 10. Demonstrate operator overloading by creating a class Vector and overriding the add method to add two\n",
        "vectors."
      ],
      "metadata": {
        "id": "6K0CthA_aQ26"
      }
    },
    {
      "cell_type": "code",
      "source": [
        "class Vector:\n",
        "  def __init__(self,v1,v2):\n",
        "    self.v1 = v1\n",
        "    self.v2 = v2\n",
        "\n",
        "  def __add__(self):\n",
        "    return f\"{self.v1}+{self.v2}\"\n"
      ],
      "metadata": {
        "id": "68Ypw7WCaXcw"
      },
      "execution_count": null,
      "outputs": []
    },
    {
      "cell_type": "markdown",
      "source": [
        "11. Create a class Person with attributes name and age. Add a method greet() that prints \"Hello, my name is\n",
        "{name} and I am {age} years old.\""
      ],
      "metadata": {
        "id": "-CaVDJkcdPCK"
      }
    },
    {
      "cell_type": "code",
      "source": [
        "\n",
        "class person:\n",
        "  def __init__(self,\n",
        "   name, age):\n",
        "    self.name = name\n",
        "    self.age = age\n",
        "\n",
        "  def greet(self):\n",
        "    return f\"Hello, my name is {self.name} and i am {self.age} years old\"\n",
        "\n"
      ],
      "metadata": {
        "id": "FHV-ADnFdTNQ"
      },
      "execution_count": null,
      "outputs": []
    },
    {
      "cell_type": "code",
      "source": [
        "p = person(\"Arhaan\", 9)\n",
        "\n",
        "\n",
        "print(p.greet())"
      ],
      "metadata": {
        "colab": {
          "base_uri": "https://localhost:8080/"
        },
        "id": "RkK5NuwDeUSq",
        "outputId": "4d962c03-64a9-4657-cdff-b9c8be5729e0"
      },
      "execution_count": null,
      "outputs": [
        {
          "output_type": "stream",
          "name": "stdout",
          "text": [
            "Hello, my name is Arhaan and i am 9 years old\n"
          ]
        }
      ]
    },
    {
      "cell_type": "markdown",
      "source": [
        "12. Implement a class Student with attributes name and grades. Create a method average_grade() to compute\n",
        "the average of the grades."
      ],
      "metadata": {
        "id": "7IY5qR-8ewMp"
      }
    },
    {
      "cell_type": "code",
      "source": [
        "class Student:\n",
        "  def __init__(self,name,grade):\n",
        "    self.name = name\n",
        "    self.grade = grade\n",
        "\n",
        "  def average_grade(self):\n",
        "    return sum(self.grade)/len(self.grade)"
      ],
      "metadata": {
        "id": "XaOZHrW2fM1_"
      },
      "execution_count": null,
      "outputs": []
    },
    {
      "cell_type": "code",
      "source": [
        "s = Student(\"Yamaan\", [85, 90, 78])\n",
        "print(f\"{s.name}'s average grade is: {s.average_grade()}\")"
      ],
      "metadata": {
        "colab": {
          "base_uri": "https://localhost:8080/"
        },
        "id": "hp4qhRdnfkoL",
        "outputId": "18c3ea02-3b03-4eb4-c0db-a5e4144cf8a7"
      },
      "execution_count": null,
      "outputs": [
        {
          "output_type": "stream",
          "name": "stdout",
          "text": [
            "Yamaan's average grade is: 84.33333333333333\n"
          ]
        }
      ]
    },
    {
      "cell_type": "markdown",
      "source": [
        "13. Create a class Rectangle with methods set_dimensions() to set the dimensions and area() to calculate the\n",
        "area."
      ],
      "metadata": {
        "id": "zxXeAYiefL4J"
      }
    },
    {
      "cell_type": "code",
      "source": [
        "class Rectangle:\n",
        "  def set_dimensions(self,length,width):\n",
        "    self.length = length\n",
        "    self.width = width\n",
        "\n",
        "  def area(self):\n",
        "    return self.length * self.width\n",
        "\n",
        "rect = Rectangle()\n",
        "rect.set_dimensions(5, 3)\n",
        "print(f\"The area of the rectangle is: {rect.area()}\")"
      ],
      "metadata": {
        "colab": {
          "base_uri": "https://localhost:8080/"
        },
        "id": "KTXnyjFjf_Fy",
        "outputId": "88dc0496-fcd8-4dc8-f911-11c8b6a1e888"
      },
      "execution_count": null,
      "outputs": [
        {
          "output_type": "stream",
          "name": "stdout",
          "text": [
            "The area of the rectangle is: 15\n"
          ]
        }
      ]
    },
    {
      "cell_type": "markdown",
      "source": [
        "14. Create a class Employee with a method calculate_salary() that computes the salary based on hours worked\n",
        "and hourly rate. Create a derived class Manager that adds a bonus to the salary"
      ],
      "metadata": {
        "id": "o0Q1ZK4cg0SJ"
      }
    },
    {
      "cell_type": "code",
      "source": [
        "class Employee:\n",
        "  def __init__(self,name,hours_worked,hourly_rate):\n",
        "    self.name = name\n",
        "    self.hours_worked = hours_worked\n",
        "    self.hourly_rate = hourly_rate\n",
        "\n",
        "  def calculate_salary(self):\n",
        "    return self.hours_worked * self.hourly_rate\n",
        "\n",
        "# Create an employee\n",
        "emp = Employee(\"Rafe\", 23, 25)\n",
        "\n",
        "# Calculate and print the salary\n",
        "salary = emp.calculate_salary()\n",
        "print(f\"{emp.name}'s salary is: ${salary}\")"
      ],
      "metadata": {
        "colab": {
          "base_uri": "https://localhost:8080/"
        },
        "id": "0j9hrhKDg2_y",
        "outputId": "bbc9b5e8-2ace-485f-9eca-4c7abd113538"
      },
      "execution_count": null,
      "outputs": [
        {
          "output_type": "stream",
          "name": "stdout",
          "text": [
            "Rafe's salary is: $575\n"
          ]
        }
      ]
    },
    {
      "cell_type": "markdown",
      "source": [
        "15. Create a class Product with attributes name, price, and quantity. Implement a method total_price() that\n",
        "calculates the total price of the product.\n",
        "\n",
        "\n"
      ],
      "metadata": {
        "id": "8QnckNCvhJ54"
      }
    },
    {
      "cell_type": "code",
      "source": [
        "class Product:\n",
        "  def __init__(self,name,price,quantity):\n",
        "    self.name = name\n",
        "    self.price = price\n",
        "    self.quantity = quantity\n",
        "\n",
        "  def total_price(self):\n",
        "    return self.price * self.quantity"
      ],
      "metadata": {
        "id": "Kbi2Ki_RhpVQ"
      },
      "execution_count": null,
      "outputs": []
    },
    {
      "cell_type": "code",
      "source": [
        "p = Product(\"Laptop\", 800, 2)\n",
        "print(f\"Total price for {p.name}s: ${p.total_price()}\")"
      ],
      "metadata": {
        "colab": {
          "base_uri": "https://localhost:8080/"
        },
        "id": "vi0AEdFChq9J",
        "outputId": "7dc2e7ef-a2a2-4600-bbad-00233e02d972"
      },
      "execution_count": null,
      "outputs": [
        {
          "output_type": "stream",
          "name": "stdout",
          "text": [
            "Total price for Laptops: $1600\n"
          ]
        }
      ]
    },
    {
      "cell_type": "markdown",
      "source": [
        "16. Create a class Animal with an abstract method sound(). Create two derived classes Cow and Sheep that\n",
        "implement the sound() method."
      ],
      "metadata": {
        "id": "IZWqitu6ityZ"
      }
    },
    {
      "cell_type": "code",
      "source": [
        "class Animal:\n",
        "  def sound(self):\n",
        "    pass\n",
        "\n",
        "class Cow(Animal):\n",
        "  def sound(self):\n",
        "    return \"Moo!\"\n",
        "\n",
        "class Sheep(Animal):\n",
        "  def sound(self):\n",
        "    return \"Baaa!\"\n",
        "\n",
        "cow = Cow()\n",
        "sheep = Sheep()\n",
        "\n",
        "print(f\"Cow says: {cow.sound()}\")\n",
        "print(f\"Sheep says: {sheep.sound()}\")"
      ],
      "metadata": {
        "colab": {
          "base_uri": "https://localhost:8080/"
        },
        "id": "_5N6nbGuitaZ",
        "outputId": "392baeaa-73f1-4b9d-c3d7-d2ccfc268c50"
      },
      "execution_count": null,
      "outputs": [
        {
          "output_type": "stream",
          "name": "stdout",
          "text": [
            "Cow says: Moo!\n",
            "Sheep says: Baaa!\n"
          ]
        }
      ]
    },
    {
      "cell_type": "markdown",
      "source": [
        "17. Create a class Book with attributes title, author, and year_published. Add a method get_book_info() that\n",
        "returns a formatted string with the book's details."
      ],
      "metadata": {
        "id": "AKGUBGY1jnnM"
      }
    },
    {
      "cell_type": "code",
      "source": [
        "class Book:\n",
        "    def __init__(self, Title, Author, Year_published):\n",
        "        self.Title = Title\n",
        "        self.Author = Author\n",
        "        self.Year_published = Year_published\n",
        "\n",
        "    def get_book_info(self):\n",
        "        return f\"Title: {self.Title}\\nAuthor: {self.Author}\\nYear Published: {self.Year_published}\"\n",
        "\n",
        "# book object\n",
        "book = Book(\"1984\", \"George Orwell\", 1949)\n",
        "\n",
        "#\n",
        "print(book.get_book_info())"
      ],
      "metadata": {
        "colab": {
          "base_uri": "https://localhost:8080/"
        },
        "id": "LpxxzGTyjqrZ",
        "outputId": "005c0952-344a-4c5e-b0bb-be2357868365"
      },
      "execution_count": null,
      "outputs": [
        {
          "output_type": "stream",
          "name": "stdout",
          "text": [
            "Title: 1984\n",
            "Author: George Orwell\n",
            "Year Published: 1949\n"
          ]
        }
      ]
    },
    {
      "cell_type": "markdown",
      "source": [
        "18. Create a class House with attributes address and price. Create a derived class Mansion that adds an\n",
        "attribute number_of_rooms."
      ],
      "metadata": {
        "id": "BkggdCgnksdy"
      }
    },
    {
      "cell_type": "code",
      "source": [
        "class House:\n",
        "  def __init__(self,address,price):\n",
        "    self.address = address\n",
        "    self.price = price\n",
        "\n",
        "class Mansion(House):\n",
        "  def __init__(self,address,price,number_of_rooms):\n",
        "    super().__init__(address,price)\n",
        "    self.number_of_rooms = number_of_rooms"
      ],
      "metadata": {
        "id": "RZNrcMV_kBka"
      },
      "execution_count": null,
      "outputs": []
    },
    {
      "cell_type": "code",
      "source": [
        "M = Mansion(\"Prayagraj \", 5000000, 10)\n",
        "print(f\"Address: {M.address}\")\n",
        "print(f\"Price: ${M.price}\")\n",
        "print(f\"Rooms: {M.number_of_rooms}\")"
      ],
      "metadata": {
        "colab": {
          "base_uri": "https://localhost:8080/"
        },
        "id": "TWzESs1qlYHK",
        "outputId": "12fb2063-04d2-45d3-b18e-0509c605e5ea"
      },
      "execution_count": null,
      "outputs": [
        {
          "output_type": "stream",
          "name": "stdout",
          "text": [
            "Address: Prayagraj \n",
            "Price: $5000000\n",
            "Rooms: 10\n"
          ]
        }
      ]
    }
  ],
  "metadata": {
    "colab": {
      "provenance": [],
      "toc_visible": true
    },
    "kernelspec": {
      "display_name": "Python 3",
      "name": "python3"
    },
    "language_info": {
      "name": "python"
    }
  },
  "nbformat": 4,
  "nbformat_minor": 0
}